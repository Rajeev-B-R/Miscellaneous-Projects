{
 "cells": [
  {
   "cell_type": "markdown",
   "metadata": {},
   "source": [
    "# Python Calculator"
   ]
  },
  {
   "cell_type": "code",
   "execution_count": null,
   "metadata": {},
   "outputs": [],
   "source": [
    "import re\n",
    "\n",
    "print(\"Python calculator\")\n",
    "print(\"Type 'quit' to exit\\n\")\n",
    "\n",
    "prev = 0\n",
    "run = True\n",
    "\n",
    "def performMath():\n",
    "    global run\n",
    "    global prev\n",
    "    equation = \"\"\n",
    "    \n",
    "    #If there has been a previous calculation, use that calculation as the prompt\n",
    "    \n",
    "    if prev == 0:\n",
    "        equation = input(\"Enter equation:\")\n",
    "    else:\n",
    "        equation = input(str(prev))\n",
    "    \n",
    "    #if user quits\n",
    "    \n",
    "    if equation == 'quit':\n",
    "        print(\"Come back again!\")\n",
    "        run = False\n",
    "    else:\n",
    "        equation = re.sub('[a-zA-Z,.:()\" \"]', '', equation)\n",
    "        \n",
    "        if prev == 0:\n",
    "            prev = eval(equation)\n",
    "        else:\n",
    "            prev = eval(str(prev) + equation)\n",
    "    \n",
    "while run:\n",
    "    performMath()"
   ]
  }
 ],
 "metadata": {
  "kernelspec": {
   "display_name": "Python 3",
   "language": "python",
   "name": "python3"
  },
  "language_info": {
   "codemirror_mode": {
    "name": "ipython",
    "version": 3
   },
   "file_extension": ".py",
   "mimetype": "text/x-python",
   "name": "python",
   "nbconvert_exporter": "python",
   "pygments_lexer": "ipython3",
   "version": "3.7.3"
  }
 },
 "nbformat": 4,
 "nbformat_minor": 4
}
